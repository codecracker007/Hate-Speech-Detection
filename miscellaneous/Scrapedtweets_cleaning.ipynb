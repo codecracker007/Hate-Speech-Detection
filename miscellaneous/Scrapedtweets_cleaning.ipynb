{
 "cells": [
  {
   "cell_type": "code",
   "execution_count": 5,
   "metadata": {},
   "outputs": [],
   "source": [
    "import re\n",
    "import pandas as pd \n",
    "import numpy as np \n"
   ]
  },
  {
   "cell_type": "code",
   "execution_count": 6,
   "metadata": {},
   "outputs": [],
   "source": [
    "df=pd.read_csv('C:/Users/kjpav/Downloads/output.csv')  "
   ]
  },
  {
   "cell_type": "code",
   "execution_count": 7,
   "metadata": {},
   "outputs": [],
   "source": [
    "def remove_pattern(input_txt, pattern):\n",
    "    r = re.findall(pattern, input_txt)\n",
    "    for i in r:\n",
    "        input_txt = re.sub(i, '', input_txt)\n",
    "        \n",
    "    return input_txt"
   ]
  },
  {
   "cell_type": "code",
   "execution_count": 8,
   "metadata": {},
   "outputs": [],
   "source": [
    "df['tidy_tweet'] = np.vectorize(remove_pattern)(df['tweet'], \"@[\\w]*\") "
   ]
  },
  {
   "cell_type": "code",
   "execution_count": 9,
   "metadata": {},
   "outputs": [
    {
     "name": "stderr",
     "output_type": "stream",
     "text": [
      "<ipython-input-9-42c580297310>:1: FutureWarning: The default value of regex will change from True to False in a future version.\n",
      "  df['tidy_tweet'] = df['tidy_tweet'].str.replace(\"[^a-zA-Z#]\", \" \")\n"
     ]
    }
   ],
   "source": [
    "df['tidy_tweet'] = df['tidy_tweet'].str.replace(\"[^a-zA-Z#]\", \" \")"
   ]
  },
  {
   "cell_type": "code",
   "execution_count": 11,
   "metadata": {},
   "outputs": [
    {
     "data": {
      "text/plain": [
       "0      Waah  you are requesting this to who  Uddhav ...\n",
       "1     #                     Hindu civilization is th...\n",
       "2      I am indian hindu   me siya muslim hasan ali ...\n",
       "3     Not a single Gandhi family members should be a...\n",
       "4                                          Works great \n",
       "5                                    caste hindus haha \n",
       "6      Didn t  expect this from you    Nobody abused...\n",
       "7      The  within   year of marriage  every suicide...\n",
       "8        Tomer Chauhan Malik aur bhi pata nhi kitne ...\n",
       "9      Why so much bitterness for Hindus  amp  hindu...\n",
       "10    Hindus must remember the statement from Congre...\n",
       "11    Something to ponder upon      Hindu boy s     ...\n",
       "12      What if it was same faith marriage   You mus...\n",
       "13                                                     \n",
       "14                                                 Kon \n",
       "15     What if it was same faith marriage   You must...\n",
       "16    Salman Khurshid s book  Cong has hatred toward...\n",
       "Name: tidy_tweet, dtype: object"
      ]
     },
     "execution_count": 11,
     "metadata": {},
     "output_type": "execute_result"
    }
   ],
   "source": [
    "df['tidy_tweet']"
   ]
  },
  {
   "cell_type": "code",
   "execution_count": null,
   "metadata": {},
   "outputs": [],
   "source": []
  }
 ],
 "metadata": {
  "kernelspec": {
   "display_name": "Python 3",
   "language": "python",
   "name": "python3"
  },
  "language_info": {
   "codemirror_mode": {
    "name": "ipython",
    "version": 3
   },
   "file_extension": ".py",
   "mimetype": "text/x-python",
   "name": "python",
   "nbconvert_exporter": "python",
   "pygments_lexer": "ipython3",
   "version": "3.8.5"
  }
 },
 "nbformat": 4,
 "nbformat_minor": 4
}
